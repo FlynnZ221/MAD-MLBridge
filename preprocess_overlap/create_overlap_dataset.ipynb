{
 "cells": [
  {
   "cell_type": "code",
   "execution_count": 1,
   "id": "e7400c01",
   "metadata": {},
   "outputs": [],
   "source": [
    "import pandas as pd\n",
    "import numpy as np"
   ]
  },
  {
   "cell_type": "code",
   "execution_count": 2,
   "id": "3370a00f-b555-4d72-9715-f77a7e1a5ad0",
   "metadata": {},
   "outputs": [],
   "source": [
    "vcf = pd.read_pickle(\"../data/all_vcfs.pkl\")\n",
    "c = pd.read_csv(\"../data/clinical/clinical.csv\").drop(\"Unnamed: 0\", axis=1).rename(columns={\"PTID\":\"Subject\"})\n",
    "img = pd.read_pickle('../data/MRI/mri_meta.pkl')[[\"img_array\", \"subject\", \"label\"]]"
   ]
  },
  {
   "cell_type": "code",
   "execution_count": 4,
   "id": "0d315924-eacb-4ad6-a5c5-72386f0aa7db",
   "metadata": {},
   "outputs": [],
   "source": [
    "# c = c.rename(columns = {\"Group\":\"GROUP\"})"
   ]
  },
  {
   "cell_type": "code",
   "execution_count": 4,
   "id": "594ecddb",
   "metadata": {},
   "outputs": [],
   "source": [
    "img = img.rename(columns = {\"subject\":\"Subject\"})"
   ]
  },
  {
   "cell_type": "code",
   "execution_count": 5,
   "id": "8adc90f6",
   "metadata": {},
   "outputs": [
    {
     "data": {
      "text/plain": [
       "(Index(['Subject', 'RID', 'Phase', 'Group', 'PTGENDER_-4.0', 'PTGENDER_1.0',\n",
       "        'PTGENDER_2.0', 'PTHOME_-4.0', 'PTHOME_1.0', 'PTHOME_2.0',\n",
       "        ...\n",
       "        'PHC_MEM_SE', 'PHC_VSP_SE', 'PHC_EXF', 'PHC_LAN', 'PTADDX', 'PHC_MEM',\n",
       "        'PHC_LAN_SE', 'PTCOGBEG', 'PHC_VSP', 'PHC_Age_Cognition'],\n",
       "       dtype='object', length=153),\n",
       " Index(['Subject',   'Group',     12116,     12117,     12118,     12119,\n",
       "            12120,     12121,     12122,     12123,\n",
       "        ...\n",
       "           599531,    599532,    599533,    599534,    599535,    599536,\n",
       "           599537,    599538,    599539,    599540],\n",
       "       dtype='object', length=179668),\n",
       " Index(['img_array', 'Subject', 'label'], dtype='object'))"
      ]
     },
     "execution_count": 5,
     "metadata": {},
     "output_type": "execute_result"
    }
   ],
   "source": [
    "c.columns, vcf.columns, img.columns"
   ]
  },
  {
   "cell_type": "code",
   "execution_count": 6,
   "id": "5b3082bf-81c0-4934-9785-5d7d4e11eba7",
   "metadata": {},
   "outputs": [],
   "source": [
    "a = vcf.merge(c, on = [\"Subject\", \"Group\"]).merge(img, on = \"Subject\")"
   ]
  },
  {
   "cell_type": "code",
   "execution_count": 15,
   "id": "767db294-0791-49a1-8cd6-ab530658c156",
   "metadata": {},
   "outputs": [
    {
     "data": {
      "text/plain": [
       "006_S_0498    2\n",
       "027_S_1045    1\n",
       "007_S_1206    1\n",
       "002_S_1155    1\n",
       "036_S_1023    1\n",
       "             ..\n",
       "005_S_0546    1\n",
       "014_S_0557    1\n",
       "027_S_0644    1\n",
       "016_S_0359    1\n",
       "127_S_1419    1\n",
       "Name: Subject, Length: 78, dtype: int64"
      ]
     },
     "execution_count": 15,
     "metadata": {},
     "output_type": "execute_result"
    }
   ],
   "source": [
    "a[\"Subject\"].value_counts()"
   ]
  },
  {
   "cell_type": "code",
   "execution_count": 13,
   "id": "337fec2d-3672-458b-922b-796316788706",
   "metadata": {},
   "outputs": [
    {
     "data": {
      "text/plain": [
       "0.0    46\n",
       "1.0    33\n",
       "Name: Group, dtype: int64"
      ]
     },
     "execution_count": 13,
     "metadata": {},
     "output_type": "execute_result"
    }
   ],
   "source": [
    "a[\"Group\"].value_counts()"
   ]
  },
  {
   "cell_type": "code",
   "execution_count": 16,
   "id": "918771f2-1afa-41d6-bd34-d3ccb933d9eb",
   "metadata": {},
   "outputs": [],
   "source": [
    "cols = list(set(a.columns) - set([\"PTID\", \"label\", \"GROUP\",\n",
    "                                  \"RID\", \"ID\", \"Group\", \"Phase\", \"SITEID\", \"VISCODE\", \"VISCODE2\", \"USERDATE\", \"USERDATE2\", \"update_stamp\", \"DX\", \"Unnamed: 0\"]))"
   ]
  },
  {
   "cell_type": "code",
   "execution_count": 18,
   "id": "76a4ef04-5abc-4e94-ae9b-1dc49d9dea36",
   "metadata": {},
   "outputs": [],
   "source": [
    "X = a[cols]\n",
    "y = a[\"Group\"]"
   ]
  },
  {
   "cell_type": "code",
   "execution_count": 19,
   "id": "324024f5-7eb5-43d0-a02b-a33cd7c33e01",
   "metadata": {},
   "outputs": [],
   "source": [
    "from sklearn.model_selection import train_test_split\n",
    "X_train, X_test, y_train, y_test = train_test_split(X, y, test_size=0.1, stratify=y)"
   ]
  },
  {
   "cell_type": "code",
   "execution_count": 20,
   "id": "a165e903-b782-417f-a7db-c232cc1f5522",
   "metadata": {},
   "outputs": [],
   "source": [
    "X_test[[\"Subject\"]].to_csv(\"overlap_test_set.csv\")"
   ]
  },
  {
   "cell_type": "code",
   "execution_count": 21,
   "id": "6b1ed881-6654-46b2-ae34-45d38bc2f143",
   "metadata": {},
   "outputs": [],
   "source": [
    "snp_cols = set(X_train.columns).intersection(set(vcf.columns))"
   ]
  },
  {
   "cell_type": "code",
   "execution_count": 23,
   "id": "407d2e04-1583-46d5-8490-90668b388cc4",
   "metadata": {},
   "outputs": [
    {
     "name": "stderr",
     "output_type": "stream",
     "text": [
      "/var/folders/fs/dzz16rpn4gb232kj3rp5q6sh0000gn/T/ipykernel_63398/443268023.py:1: FutureWarning: Passing a set as an indexer is deprecated and will raise in a future version. Use a list instead.\n",
      "  X_train_snp = X_train[snp_cols]\n",
      "/var/folders/fs/dzz16rpn4gb232kj3rp5q6sh0000gn/T/ipykernel_63398/443268023.py:2: FutureWarning: Passing a set as an indexer is deprecated and will raise in a future version. Use a list instead.\n",
      "  X_test_snp = X_test[snp_cols]\n"
     ]
    }
   ],
   "source": [
    "X_train_snp = X_train[snp_cols]\n",
    "X_test_snp = X_test[snp_cols]"
   ]
  },
  {
   "cell_type": "code",
   "execution_count": 24,
   "id": "b2040535-5fae-4c6b-88bc-c683488cfa5f",
   "metadata": {},
   "outputs": [
    {
     "name": "stdout",
     "output_type": "stream",
     "text": [
      "3\n",
      "2\n"
     ]
    },
    {
     "name": "stderr",
     "output_type": "stream",
     "text": [
      "/var/folders/fs/dzz16rpn4gb232kj3rp5q6sh0000gn/T/ipykernel_63398/1154895174.py:4: FutureWarning: Passing a set as an indexer is deprecated and will raise in a future version. Use a list instead.\n",
      "  X_train_img = X_train[img_cols]\n",
      "/var/folders/fs/dzz16rpn4gb232kj3rp5q6sh0000gn/T/ipykernel_63398/1154895174.py:5: FutureWarning: Passing a set as an indexer is deprecated and will raise in a future version. Use a list instead.\n",
      "  X_test_img = X_test[img_cols]\n"
     ]
    }
   ],
   "source": [
    "img_cols = set(X_train.columns).intersection(set(img.columns))\n",
    "print(len(img.columns))\n",
    "print(len(img_cols))\n",
    "X_train_img = X_train[img_cols]\n",
    "X_test_img = X_test[img_cols]"
   ]
  },
  {
   "cell_type": "code",
   "execution_count": 25,
   "id": "b4a40292-4da9-4911-b648-c98437c47dc6",
   "metadata": {},
   "outputs": [
    {
     "name": "stdout",
     "output_type": "stream",
     "text": [
      "153\n",
      "150\n"
     ]
    },
    {
     "name": "stderr",
     "output_type": "stream",
     "text": [
      "/var/folders/fs/dzz16rpn4gb232kj3rp5q6sh0000gn/T/ipykernel_63398/1500334310.py:4: FutureWarning: Passing a set as an indexer is deprecated and will raise in a future version. Use a list instead.\n",
      "  X_train_clin = X_train[clin_cols]\n",
      "/var/folders/fs/dzz16rpn4gb232kj3rp5q6sh0000gn/T/ipykernel_63398/1500334310.py:5: FutureWarning: Passing a set as an indexer is deprecated and will raise in a future version. Use a list instead.\n",
      "  X_test_clin = X_test[clin_cols]\n"
     ]
    }
   ],
   "source": [
    "clin_cols = set(X_train.columns).intersection(set(c.columns))\n",
    "print(len(c.columns))\n",
    "print(len(clin_cols))\n",
    "X_train_clin = X_train[clin_cols]\n",
    "X_test_clin = X_test[clin_cols]"
   ]
  },
  {
   "cell_type": "code",
   "execution_count": 26,
   "id": "2532818d",
   "metadata": {},
   "outputs": [
    {
     "name": "stdout",
     "output_type": "stream",
     "text": [
      "/Users/flynnzhang/CMU/Fall24/ML_Healthcare/Project/MADDi-ML/preprocess_overlap\n"
     ]
    }
   ],
   "source": [
    "!pwd"
   ]
  },
  {
   "cell_type": "code",
   "execution_count": 27,
   "id": "fb54d2ae-7429-400a-9578-dfbac76e5d74",
   "metadata": {},
   "outputs": [],
   "source": [
    "pd.DataFrame(X_train_snp).to_pickle(\"X_train_snp.pkl\")\n",
    "pd.DataFrame(X_test_snp).to_pickle(\"X_test_snp.pkl\")\n",
    "pd.DataFrame(y_train).to_pickle(\"y_train.pkl\")\n",
    "pd.DataFrame(y_test).to_pickle(\"y_test.pkl\")\n",
    "\n",
    "pd.DataFrame(X_train_clin).to_pickle(\"X_train_clinical.pkl\")\n",
    "pd.DataFrame(X_test_clin).to_pickle(\"X_test_clinical.pkl\")\n",
    "\n",
    "pd.DataFrame(X_train_img).to_pickle(\"X_train_img.pkl\")\n",
    "pd.DataFrame(X_test_img).to_pickle(\"X_test_img.pkl\")"
   ]
  },
  {
   "cell_type": "markdown",
   "id": "3d6be1ad-6f93-496b-a914-20728baca6f9",
   "metadata": {},
   "source": [
    "---------------------------------------------------------------------------------------------------------"
   ]
  }
 ],
 "metadata": {
  "kernelspec": {
   "display_name": "Intro2DL",
   "language": "python",
   "name": "python3"
  },
  "language_info": {
   "codemirror_mode": {
    "name": "ipython",
    "version": 3
   },
   "file_extension": ".py",
   "mimetype": "text/x-python",
   "name": "python",
   "nbconvert_exporter": "python",
   "pygments_lexer": "ipython3",
   "version": "3.8.18"
  }
 },
 "nbformat": 4,
 "nbformat_minor": 5
}
