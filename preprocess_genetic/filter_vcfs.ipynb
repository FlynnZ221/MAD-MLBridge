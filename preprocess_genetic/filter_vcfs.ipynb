{
 "cells": [
  {
   "cell_type": "code",
   "execution_count": 1,
   "metadata": {},
   "outputs": [],
   "source": [
    "import io\n",
    "import os\n",
    "import numpy as np\n",
    "import pandas as pd\n",
    "import gzip"
   ]
  },
  {
   "cell_type": "code",
   "execution_count": 2,
   "metadata": {},
   "outputs": [],
   "source": [
    "def get_vcf_names(vcf_path):\n",
    "    with gzip.open(vcf_path, \"rt\") as ifile:\n",
    "          for line in ifile:\n",
    "            if line.startswith(\"#CHROM\"):\n",
    "                vcf_names = [x for x in line.split('\\t')]\n",
    "                break\n",
    "    ifile.close()\n",
    "    return vcf_names\n",
    "\n",
    "\n",
    "def read_vcf(path):\n",
    "    with open(path, 'r') as f:\n",
    "        lines = [l for l in f if not l.startswith('##')]\n",
    "    return pd.read_csv(\n",
    "        io.StringIO(''.join(lines)),\n",
    "        dtype={'#CHROM': str, 'POS': int, 'ID': str, 'REF': str, 'ALT': str,\n",
    "               'QUAL': str, 'FILTER': str, 'INFO': str},\n",
    "        sep='\\t'\n",
    "    ).rename(columns={'#CHROM': 'CHROM'})\n",
    "\n",
    "def in_between(position, relevent):\n",
    "    appears = False\n",
    "    for i in range(len(relevent)):\n",
    "        row = relevent.iloc[i]\n",
    "        if (position >= relevent.iloc[i].start) and (position <= relevent.iloc[i].end):\n",
    "            appears = True\n",
    "    return appears"
   ]
  },
  {
   "cell_type": "code",
   "execution_count": 20,
   "metadata": {},
   "outputs": [
    {
     "name": "stdout",
     "output_type": "stream",
     "text": [
      "[]\n"
     ]
    }
   ],
   "source": [
    "genes = pd.read_csv(\"gene_list.csv\")\n",
    "files = os.listdir(\"/Users/yanicewan/Downloads/ADNI.808_indiv.minGQ_21.pass.ADNI_ID.chr21.vcf/\")\n",
    "\n",
    "\n",
    "for vcf_file in files:\n",
    "    file_name = \"/Users/yanicewan/Downloads/ADNI.808_indiv.minGQ_21.pass.ADNI_ID.chr21.vcf/\" + vcf_file\n",
    "    \n",
    "    output_file = open('log.txt','a')\n",
    "    output_file.write(file_name)\n",
    "    output_file.close()\n",
    "    names = get_vcf_names(file_name)\n",
    "    vcf = pd.read_csv(file_name, compression='gzip', comment='#', chunksize=10000, delim_whitespace=True, header=None, names=names)\n",
    "    vcf = pd.concat(vcf, ignore_index=True)\n",
    "    \n",
    "    start = vcf_file.find(\"ADNI_ID.\") + len(\"ADNI_ID.\")\n",
    "    end = vcf_file.find(\"output.vcf\")\n",
    "    substring = vcf_file[start:end]\n",
    "    relevent = genes[genes[\"chrom\"] == substring]\n",
    "    relevent = relevent.reset_index()\n",
    "    \n",
    "    positions = vcf[\"POS\"]\n",
    "    \n",
    "    \n",
    "    indexes = []\n",
    "    for i in range(len(positions)):\n",
    "        \n",
    "        boo = in_between(positions[i], relevent)\n",
    "        if i % 500 == 0:\n",
    "            output_file = open('log.txt','a')\n",
    "            output_file.write(\" \" + str(boo) + \" \")\n",
    "            output_file.close()\n",
    "        if boo:\n",
    "            indexes.append(i)\n",
    "    print(indexes)\n",
    "    if len(indexes) != 0:\n",
    "        df = vcf.iloc[indexes]\n",
    "        df.to_pickle(vcf_file[:-4] + \".pkl\")\n",
    "    \n"
   ]
  }
 ],
 "metadata": {
  "kernelspec": {
   "display_name": "seq",
   "language": "python",
   "name": "python3"
  },
  "language_info": {
   "codemirror_mode": {
    "name": "ipython",
    "version": 3
   },
   "file_extension": ".py",
   "mimetype": "text/x-python",
   "name": "python",
   "nbconvert_exporter": "python",
   "pygments_lexer": "ipython3",
   "version": "3.12.3"
  }
 },
 "nbformat": 4,
 "nbformat_minor": 2
}
